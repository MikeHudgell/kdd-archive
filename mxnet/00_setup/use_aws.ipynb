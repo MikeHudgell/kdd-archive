{
 "cells": [
  {
   "cell_type": "markdown",
   "metadata": {
    "slideshow": {
     "slide_type": "slide"
    }
   },
   "source": [
    "# Run Notebooks on Amazon EC2\n",
    "\n",
    "Pre-built environment as AMI for immediate use on EC2\n",
    "\n",
    "# ami-06aea40327d6a56bc\n",
    "\n",
    "Recommended instance type\n",
    "- `p2.8xlarge`, `p3.2xlarge` (GPU instance)\n",
    "- `c5.9xlarge` (CPU instance)."
   ]
  },
  {
   "cell_type": "markdown",
   "metadata": {
    "slideshow": {
     "slide_type": "skip"
    }
   },
   "source": [
    "\n",
    "**We recommend you request GPU instance limits at least one day before the tutorial starts**.\n"
   ]
  },
  {
   "cell_type": "markdown",
   "metadata": {
    "slideshow": {
     "slide_type": "slide"
    }
   },
   "source": [
    "We will go through how to allocate a CPU/GPU instance in AWS and launch the notebook step-by-step.\n",
    "\n",
    "## Redeem Promotional Code\n",
    "\n",
    "Promotional code should be redeemed by visiting AWS Credits https://aws.amazon.com/awscredits or by entering code via AWS account dashboard, under `credits`."
   ]
  },
  {
   "cell_type": "markdown",
   "metadata": {
    "slideshow": {
     "slide_type": "skip"
    }
   },
   "source": [
    "## Request GPU Instance Limits\n",
    "\n",
    "For a newly created AWS account, usually it doesn't come with guaranteed GPU resources.\n",
    "To check the GPU resource limit, please follow the below steps:\n",
    "\n",
    "- Open the Amazon EC2 console at https://console.aws.amazon.com/ec2/.\n",
    "- From the navigation bar, select a region.             \n",
    "- From the navigation pane, choose Limits.\n",
    "- Locate the resource in the list.\n",
    "\n",
    "![](img/limits.png)\n",
    "\n",
    "To request more capacity:\n",
    "- Click the `Request limit increase` link and complete the required fields on the limit increase form. \n",
    "- AWS will respond using the contact method specified. The request often takes about one business day to process."
   ]
  },
  {
   "cell_type": "markdown",
   "metadata": {
    "slideshow": {
     "slide_type": "slide"
    }
   },
   "source": [
    "## Select and run an instance\n",
    "\n",
    "We first need [an AWS account](https://aws.amazon.com/), and then go the EC2 console\n",
    "after login in.\n",
    "\n",
    "![](img/aws.png)\n",
    "\n",
    "\n"
   ]
  },
  {
   "cell_type": "markdown",
   "metadata": {
    "slideshow": {
     "slide_type": "slide"
    }
   },
   "source": [
    "Select the following region: **EU Ireland**\n",
    "\n",
    "Then click `launch instance` to select the operation system and instance type.\n",
    "\n",
    "![](img/ec2.png)\n",
    "\n"
   ]
  },
  {
   "cell_type": "markdown",
   "metadata": {
    "slideshow": {
     "slide_type": "slide"
    }
   },
   "source": [
    "Select **Community AMIs**, enter **ami-06aea40327d6a56bc** and click \"Select\":\n",
    "\n",
    "![](img/choose-ami.png)"
   ]
  },
  {
   "cell_type": "markdown",
   "metadata": {
    "slideshow": {
     "slide_type": "slide"
    }
   },
   "source": [
    "For instance type, the instance types below are recommended:\n",
    "- `p2.8xlarge`, `p3.2xlarge` (GPU instance)\n",
    "- `c5.9xlarge` (CPU instance).\n",
    "\n",
    "![](img/p28x.png)"
   ]
  },
  {
   "cell_type": "markdown",
   "metadata": {
    "slideshow": {
     "slide_type": "slide"
    }
   },
   "source": [
    "On the next step we increased the disk from 8 GB to **50 GB** to store a reasonable size dataset. \n",
    "\n",
    "If you selected a very powerful GPU\n",
    "instance such as \"p3.2xlarge\", make sure you selected \"Provisioned IOPS\" in the\n",
    "volume type for better I/O performance.\n",
    "\n",
    "![](img/disk.png)"
   ]
  },
  {
   "cell_type": "markdown",
   "metadata": {
    "slideshow": {
     "slide_type": "slide"
    }
   },
   "source": [
    "Then we launched with other options as the default values. \n",
    "\n",
    "The last step is choosing the ssh key, you may need to generate and store a key if\n",
    "you don't have one before. \n",
    "\n",
    "Then click \"Launch Instance\".\n",
    "\n",
    "![](img/keypair.png)"
   ]
  },
  {
   "cell_type": "markdown",
   "metadata": {
    "slideshow": {
     "slide_type": "slide"
    }
   },
   "source": [
    "After clicked \"launch instances\", we can check the status by clicking the\n",
    "instance ID link.\n",
    "\n",
    "![](img/launching.png)"
   ]
  },
  {
   "cell_type": "markdown",
   "metadata": {
    "slideshow": {
     "slide_type": "fragment"
    }
   },
   "source": [
    "## Connect and Launch the Jupyter Notebook Remotely\n",
    "\n",
    "Once the status is green, we can right-click and select \"connect\" to get the access instruction.\n",
    "\n",
    "![](img/connect.png)"
   ]
  },
  {
   "cell_type": "markdown",
   "metadata": {
    "slideshow": {
     "slide_type": "slide"
    }
   },
   "source": [
    "To launch the notebook remotely, we need to enable ssh with port forwarding.\n",
    "\n",
    "### Linux/Mac\n",
    "\n",
    "If you have any jupyter notebook server running locally, please turn it off for now.\n",
    "\n",
    "Assuming your key name is `kdd18.pem` and public ip is `34.247.93.209`\n",
    "\n",
    "For a new pem key, execute `chmod 400 kdd18.pem` before using it.\n",
    "\n",
    "To connect to the remote instance, execute \n",
    "\n",
    "`ssh -i kdd18.pem ubuntu@34.247.93.209 -L 8888:localhost:8888`, \n",
    "\n",
    "where the port 8888 on remote instance is forward to localhost:8888.\n",
    "\n",
    "![](img/connect-instance-osx.png)\n",
    "\n",
    "### Windows\n",
    "\n",
    "Follow the instructions in [\"Configure a Windows Client: Set up PuTTY\"](https://docs.aws.amazon.com/dlami/latest/devguide/setup-jupyter-configure-client-windows.html#setup-jupyter-win).\n"
   ]
  },
  {
   "cell_type": "markdown",
   "metadata": {
    "slideshow": {
     "slide_type": "slide"
    }
   },
   "source": [
    "To launch jupyter notebook on port 8888, execute `jupyter notebook --port=8888`\n",
    "\n",
    "![](img/run-notebook.png)\n",
    "\n",
    "Finally, copy/paste the URL into your browser, and hit enter."
   ]
  },
  {
   "cell_type": "markdown",
   "metadata": {
    "slideshow": {
     "slide_type": "skip"
    }
   },
   "source": [
    "## Billing\n",
    "\n",
    "You can set up [billing alerts](https://docs.aws.amazon.com/awsaccountbilling/latest/aboutv2/monitor-charges.html) ASAP in order to avoid unwanted charges. If you want to close the account after the tutorial, please follow steps [here](https://aws.amazon.com/premiumsupport/knowledge-center/close-aws-account)."
   ]
  }
 ],
 "metadata": {
  "celltoolbar": "Slideshow",
  "kernelspec": {
   "display_name": "Python 3",
   "language": "python",
   "name": "python3"
  },
  "language_info": {
   "codemirror_mode": {
    "name": "ipython",
    "version": 3
   },
   "file_extension": ".py",
   "mimetype": "text/x-python",
   "name": "python",
   "nbconvert_exporter": "python",
   "pygments_lexer": "ipython3",
   "version": "3.7.0"
  }
 },
 "nbformat": 4,
 "nbformat_minor": 2
}
