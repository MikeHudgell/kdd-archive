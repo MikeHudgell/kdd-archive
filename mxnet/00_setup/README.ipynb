{
 "cells": [
  {
   "cell_type": "markdown",
   "metadata": {},
   "source": [
    "# KDD 2018: Deep Learning and Natural Language Processing with Apache MXNet Gluon\n",
    "\n",
    "### Tutorial Materials: https://github.com/szha/KDD18-Gluon\n",
    "\n",
    "## Running Notebooks Locally\n",
    "1. Get miniconda at https://conda.io/miniconda.html. (Skip if `conda` command is already available)\n",
    "2. Set up Conda environment. Run **one of the following**:\n",
    "### `KDD_ENV=kdd18_gluon_nlp` (For CPU)\n",
    "### `KDD_ENV=kdd18_gluon_nlp_cu92` (For GPU CUDA-9.2, Linux only)\n",
    "\n",
    "\n",
    "\n",
    "3. Run the follow commands:\n",
    "```sh\n",
    "conda env update --prune mxnet/$KDD_ENV; source activate $KDD_ENV;\n",
    "git clone https://github.com/szha/KDD18-Gluon; cd KDD18-Gluon\n",
    "jupyter notebook\n",
    "```\n",
    "\n",
    "## Running Notebooks on AWS\n",
    "\n",
    "See `use_aws.ipynb` for more details."
   ]
  }
 ],
 "metadata": {
  "kernelspec": {
   "display_name": "Python 3",
   "language": "python",
   "name": "python3"
  },
  "language_info": {
   "codemirror_mode": {
    "name": "ipython",
    "version": 3
   },
   "file_extension": ".py",
   "mimetype": "text/x-python",
   "name": "python",
   "nbconvert_exporter": "python",
   "pygments_lexer": "ipython3",
   "version": "3.6.3"
  }
 },
 "nbformat": 4,
 "nbformat_minor": 2
}
