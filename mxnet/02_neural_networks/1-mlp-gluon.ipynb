{
 "cells": [
  {
   "cell_type": "markdown",
   "metadata": {
    "slideshow": {
     "slide_type": "slide"
    }
   },
   "source": [
    "# Neural Networks 101 with `gluon`"
   ]
  },
  {
   "cell_type": "markdown",
   "metadata": {
    "ExecuteTime": {
     "end_time": "2018-08-19T21:04:44.785148Z",
     "start_time": "2018-08-19T21:04:44.780632Z"
    },
    "slideshow": {
     "slide_type": "skip"
    }
   },
   "source": [
    "Now we're going to implement a simple example of trainin a neural network with Gluon. We'll walk through all of the steps that you'll typically need, regardless of the application. Namely:\n",
    "\n",
    "\n",
    "(For notebooks that don't rely on spoken instructions see https://gluon.mxnet.io/ )"
   ]
  },
  {
   "cell_type": "markdown",
   "metadata": {
    "slideshow": {
     "slide_type": "fragment"
    }
   },
   "source": [
    "1. Define network\n",
    "1. Initialize parameters\n",
    "1. Loop over inputs\n",
    "  1. The forward pass - propagate an input through network to generate an output\n",
    "  1. Compute loss by comparing your output to the label\n",
    "  1. Run backpropagation to calculate the gradient\n",
    "  1. Update parameters by (stochastic) gradient descent."
   ]
  },
  {
   "cell_type": "code",
   "execution_count": 1,
   "metadata": {
    "ExecuteTime": {
     "end_time": "2018-08-20T23:21:31.129209Z",
     "start_time": "2018-08-20T23:21:29.892933Z"
    },
    "slideshow": {
     "slide_type": "subslide"
    }
   },
   "outputs": [],
   "source": [
    "from __future__ import print_function\n",
    "import mxnet as mx\n",
    "from mxnet import nd, autograd, gluon"
   ]
  },
  {
   "cell_type": "markdown",
   "metadata": {
    "slideshow": {
     "slide_type": "skip"
    }
   },
   "source": [
    "We'll also want to set the contexts for our data and our models."
   ]
  },
  {
   "cell_type": "code",
   "execution_count": 2,
   "metadata": {
    "ExecuteTime": {
     "end_time": "2018-08-20T23:21:31.133605Z",
     "start_time": "2018-08-20T23:21:31.131061Z"
    },
    "slideshow": {
     "slide_type": "fragment"
    }
   },
   "outputs": [],
   "source": [
    "data_ctx = mx.cpu()\n",
    "# model_ctx = mx.cpu()\n",
    "model_ctx = mx.gpu(0)"
   ]
  },
  {
   "cell_type": "markdown",
   "metadata": {
    "slideshow": {
     "slide_type": "slide"
    }
   },
   "source": [
    "## `Block`s in `gluon`"
   ]
  },
  {
   "cell_type": "markdown",
   "metadata": {
    "slideshow": {
     "slide_type": "skip"
    }
   },
   "source": [
    "`gluon.Block` is the basic building block of models. You can define networks by\n",
    "composing and inheriting `Block`."
   ]
  },
  {
   "cell_type": "markdown",
   "metadata": {
    "slideshow": {
     "slide_type": "fragment"
    }
   },
   "source": [
    "Any object that inherits from `gluon.Block` and defines a `forward` function is a `Block`.\n",
    "\n",
    "```\n",
    "class Net(gluon.Block):\n",
    "    [...]  # We cover the __init__ function later\n",
    "\n",
    "    # One or more NDArrays can be passed to `forward`\n",
    "    def forward(self, x):\n",
    "        # Computation\n",
    "        # Do something with your data x to compute y\n",
    "        return y\n",
    "```"
   ]
  },
  {
   "cell_type": "markdown",
   "metadata": {
    "slideshow": {
     "slide_type": "subslide"
    }
   },
   "source": [
    "### Purpose of `Block`\n",
    "\n",
    "- *Computation* (usually) depends on input data as well as parameters to be learned\n",
    "- Inconvenient to manually pass parameters and data to function, so `gluon.Block` encapsulates parameters"
   ]
  },
  {
   "cell_type": "markdown",
   "metadata": {
    "slideshow": {
     "slide_type": "fragment"
    }
   },
   "source": [
    "### Using `Block`s\n",
    "\n",
    "- Gluon defines many `Block`s for you\n",
    "- For example `Dense` layers\n",
    "- `Dense` implements `output = activation(dot(input, weight) + bias)`\n"
   ]
  },
  {
   "cell_type": "markdown",
   "metadata": {
    "slideshow": {
     "slide_type": "subslide"
    }
   },
   "source": [
    "### A simple `Block`"
   ]
  },
  {
   "cell_type": "code",
   "execution_count": 3,
   "metadata": {
    "ExecuteTime": {
     "end_time": "2018-08-20T23:21:31.143860Z",
     "start_time": "2018-08-20T23:21:31.135235Z"
    },
    "slideshow": {
     "slide_type": "fragment"
    }
   },
   "outputs": [],
   "source": [
    "net = gluon.nn.Dense(1, in_units=2)  # Single output unit, 2 input units, no activation function"
   ]
  },
  {
   "cell_type": "markdown",
   "metadata": {
    "slideshow": {
     "slide_type": "skip"
    }
   },
   "source": [
    "As promised, the `Dense` layer encapsulates the parameters for us:"
   ]
  },
  {
   "cell_type": "code",
   "execution_count": 4,
   "metadata": {
    "ExecuteTime": {
     "end_time": "2018-08-20T23:21:31.149685Z",
     "start_time": "2018-08-20T23:21:31.145454Z"
    },
    "slideshow": {
     "slide_type": "fragment"
    }
   },
   "outputs": [
    {
     "name": "stdout",
     "output_type": "stream",
     "text": [
      "Parameter dense0_weight (shape=(1, 2), dtype=float32)\n",
      "Parameter dense0_bias (shape=(1,), dtype=float32)\n"
     ]
    }
   ],
   "source": [
    "print(net.weight)\n",
    "print(net.bias)"
   ]
  },
  {
   "cell_type": "markdown",
   "metadata": {
    "slideshow": {
     "slide_type": "skip"
    }
   },
   "source": [
    "Here we relied on the knowledge that `Dense` exposes the parameters `weight` and `bias`.\n",
    "But `Block`s can be composed and may contain more parameters.\n",
    "`collect_params()` allows us to retrieve all Parameters associated with a `Block`.\n",
    "    "
   ]
  },
  {
   "cell_type": "code",
   "execution_count": 5,
   "metadata": {
    "ExecuteTime": {
     "end_time": "2018-08-20T23:21:31.160655Z",
     "start_time": "2018-08-20T23:21:31.151396Z"
    },
    "slideshow": {
     "slide_type": "fragment"
    }
   },
   "outputs": [
    {
     "data": {
      "text/plain": [
       "dense0_ (\n",
       "  Parameter dense0_weight (shape=(1, 2), dtype=float32)\n",
       "  Parameter dense0_bias (shape=(1,), dtype=float32)\n",
       ")"
      ]
     },
     "execution_count": 5,
     "metadata": {},
     "output_type": "execute_result"
    }
   ],
   "source": [
    "net.collect_params()"
   ]
  },
  {
   "cell_type": "markdown",
   "metadata": {
    "slideshow": {
     "slide_type": "skip"
    }
   },
   "source": [
    "The returned object is a `gluon.parameter.ParameterDict`. "
   ]
  },
  {
   "cell_type": "code",
   "execution_count": 6,
   "metadata": {
    "ExecuteTime": {
     "end_time": "2018-08-20T23:21:31.165707Z",
     "start_time": "2018-08-20T23:21:31.162312Z"
    },
    "slideshow": {
     "slide_type": "fragment"
    }
   },
   "outputs": [
    {
     "data": {
      "text/plain": [
       "mxnet.gluon.parameter.ParameterDict"
      ]
     },
     "execution_count": 6,
     "metadata": {},
     "output_type": "execute_result"
    }
   ],
   "source": [
    "type(net.collect_params())"
   ]
  },
  {
   "cell_type": "markdown",
   "metadata": {
    "slideshow": {
     "slide_type": "skip"
    }
   },
   "source": [
    "Before we can use the `Block`, we need to tell ``gluon`` what the *initial values* for our parameters should be!\n",
    "\n",
    "We'll need to pass in two arguments. \n",
    "\n",
    "* An initializer, many of which live in the `mx.init` module. \n",
    "* A context where the parameters should live. In this case we'll pass in the `model_ctx`. Most often this will either be a GPU or a list of GPUs. "
   ]
  },
  {
   "cell_type": "code",
   "execution_count": 7,
   "metadata": {
    "ExecuteTime": {
     "end_time": "2018-08-20T23:21:33.782121Z",
     "start_time": "2018-08-20T23:21:31.167412Z"
    },
    "slideshow": {
     "slide_type": "subslide"
    }
   },
   "outputs": [],
   "source": [
    "net.collect_params().initialize(mx.initializer.Uniform(0.01), ctx=model_ctx)"
   ]
  },
  {
   "cell_type": "markdown",
   "metadata": {
    "slideshow": {
     "slide_type": "skip"
    }
   },
   "source": [
    "Now we can access the actual parameter value:"
   ]
  },
  {
   "cell_type": "code",
   "execution_count": 8,
   "metadata": {
    "ExecuteTime": {
     "end_time": "2018-08-20T23:21:33.788056Z",
     "start_time": "2018-08-20T23:21:33.783922Z"
    },
    "slideshow": {
     "slide_type": "fragment"
    }
   },
   "outputs": [
    {
     "name": "stdout",
     "output_type": "stream",
     "text": [
      "\n",
      "[[ 0.00097627  0.00185689]]\n",
      "<NDArray 1x2 @gpu(0)>\n",
      "\n",
      "[ 0.]\n",
      "<NDArray 1 @gpu(0)>\n"
     ]
    }
   ],
   "source": [
    "print(net.weight.data())\n",
    "print(net.bias.data())"
   ]
  },
  {
   "cell_type": "markdown",
   "metadata": {
    "slideshow": {
     "slide_type": "subslide"
    }
   },
   "source": [
    "### Optimization"
   ]
  },
  {
   "cell_type": "code",
   "execution_count": 9,
   "metadata": {
    "ExecuteTime": {
     "end_time": "2018-08-20T23:21:33.792489Z",
     "start_time": "2018-08-20T23:21:33.789716Z"
    },
    "slideshow": {
     "slide_type": "fragment"
    }
   },
   "outputs": [],
   "source": [
    "square_loss = gluon.loss.L2Loss()"
   ]
  },
  {
   "cell_type": "code",
   "execution_count": 10,
   "metadata": {
    "ExecuteTime": {
     "end_time": "2018-08-20T23:21:33.796901Z",
     "start_time": "2018-08-20T23:21:33.794161Z"
    },
    "slideshow": {
     "slide_type": "fragment"
    }
   },
   "outputs": [],
   "source": [
    "trainer = gluon.Trainer(net.collect_params(), 'sgd', {'learning_rate': 0.0001})"
   ]
  },
  {
   "cell_type": "markdown",
   "metadata": {
    "slideshow": {
     "slide_type": "subslide"
    }
   },
   "source": [
    "### Data"
   ]
  },
  {
   "cell_type": "code",
   "execution_count": 11,
   "metadata": {
    "ExecuteTime": {
     "end_time": "2018-08-20T23:21:33.801079Z",
     "start_time": "2018-08-20T23:21:33.798597Z"
    },
    "slideshow": {
     "slide_type": "fragment"
    }
   },
   "outputs": [],
   "source": [
    "num_inputs = 2\n",
    "num_outputs = 1\n",
    "num_examples = 10000"
   ]
  },
  {
   "cell_type": "code",
   "execution_count": 12,
   "metadata": {
    "ExecuteTime": {
     "end_time": "2018-08-20T23:21:33.806775Z",
     "start_time": "2018-08-20T23:21:33.802761Z"
    },
    "slideshow": {
     "slide_type": "fragment"
    }
   },
   "outputs": [],
   "source": [
    "X = nd.random_normal(shape=(num_examples, num_inputs))\n",
    "noise = 0.01 * nd.random_normal(shape=(num_examples, ))"
   ]
  },
  {
   "cell_type": "code",
   "execution_count": 13,
   "metadata": {
    "ExecuteTime": {
     "end_time": "2018-08-20T23:21:33.812168Z",
     "start_time": "2018-08-20T23:21:33.808535Z"
    },
    "slideshow": {
     "slide_type": "fragment"
    }
   },
   "outputs": [],
   "source": [
    "def real_fn(X):\n",
    "    return 2 * X[:, 0] - 3.4 * X[:, 1] + 4.2\n",
    "\n",
    "y = real_fn(X) + noise"
   ]
  },
  {
   "cell_type": "code",
   "execution_count": 14,
   "metadata": {
    "ExecuteTime": {
     "end_time": "2018-08-20T23:21:33.818599Z",
     "start_time": "2018-08-20T23:21:33.813801Z"
    },
    "slideshow": {
     "slide_type": "subslide"
    }
   },
   "outputs": [
    {
     "name": "stdout",
     "output_type": "stream",
     "text": [
      "\n",
      "[[ 0.7740038   1.04344046]\n",
      " [ 1.18392551  1.89171135]\n",
      " [-1.23474145 -1.771029  ]\n",
      " ..., \n",
      " [ 0.08873925 -0.45150325]\n",
      " [-0.13049959  0.15614532]\n",
      " [-0.22753173 -0.19928493]]\n",
      "<NDArray 10000x2 @cpu(0)>\n"
     ]
    }
   ],
   "source": [
    "print(X)"
   ]
  },
  {
   "cell_type": "code",
   "execution_count": 15,
   "metadata": {
    "ExecuteTime": {
     "end_time": "2018-08-20T23:21:33.823514Z",
     "start_time": "2018-08-20T23:21:33.820301Z"
    },
    "slideshow": {
     "slide_type": "fragment"
    }
   },
   "outputs": [
    {
     "name": "stdout",
     "output_type": "stream",
     "text": [
      "\n",
      "[ 2.21105146  0.13669638  7.76050282 ...,  5.90324974  3.42296672\n",
      "  4.4221096 ]\n",
      "<NDArray 10000 @cpu(0)>\n"
     ]
    }
   ],
   "source": [
    "print(y)"
   ]
  },
  {
   "cell_type": "markdown",
   "metadata": {
    "slideshow": {
     "slide_type": "subslide"
    }
   },
   "source": [
    "### Batching"
   ]
  },
  {
   "cell_type": "code",
   "execution_count": 16,
   "metadata": {
    "ExecuteTime": {
     "end_time": "2018-08-20T23:21:33.828119Z",
     "start_time": "2018-08-20T23:21:33.825180Z"
    },
    "slideshow": {
     "slide_type": "fragment"
    }
   },
   "outputs": [],
   "source": [
    "batch_size = 4\n",
    "train_data = gluon.data.DataLoader(\n",
    "    gluon.data.ArrayDataset(X, y), batch_size=batch_size, shuffle=True)"
   ]
  },
  {
   "cell_type": "markdown",
   "metadata": {
    "slideshow": {
     "slide_type": "subslide"
    }
   },
   "source": [
    "### Training loop"
   ]
  },
  {
   "cell_type": "code",
   "execution_count": 17,
   "metadata": {
    "ExecuteTime": {
     "end_time": "2018-08-20T23:21:33.833027Z",
     "start_time": "2018-08-20T23:21:33.829775Z"
    }
   },
   "outputs": [
    {
     "name": "stdout",
     "output_type": "stream",
     "text": [
      "2500.0\n"
     ]
    }
   ],
   "source": [
    "epochs = 10\n",
    "num_batches = num_examples / batch_size\n",
    "print(num_batches)"
   ]
  },
  {
   "cell_type": "code",
   "execution_count": 18,
   "metadata": {
    "ExecuteTime": {
     "end_time": "2018-08-20T23:21:33.838673Z",
     "start_time": "2018-08-20T23:21:33.834721Z"
    },
    "slideshow": {
     "slide_type": "fragment"
    }
   },
   "outputs": [],
   "source": [
    "def train_loop(epochs):\n",
    "    for e in range(epochs):\n",
    "        cumulative_loss = 0\n",
    "        for i, (data, label) in enumerate(train_data):\n",
    "            data = data.as_in_context(model_ctx)\n",
    "            label = label.as_in_context(model_ctx)\n",
    "            with autograd.record():\n",
    "                output = net(data)\n",
    "                loss = square_loss(output, label)\n",
    "            loss.backward()\n",
    "            trainer.step(batch_size)\n",
    "            cumulative_loss += nd.mean(loss).asscalar()\n",
    "        print(\"Epoch %s, loss: %.4f\" % (e, cumulative_loss / num_examples))"
   ]
  },
  {
   "cell_type": "code",
   "execution_count": 19,
   "metadata": {
    "ExecuteTime": {
     "end_time": "2018-08-20T23:22:06.754996Z",
     "start_time": "2018-08-20T23:21:33.840309Z"
    }
   },
   "outputs": [
    {
     "name": "stdout",
     "output_type": "stream",
     "text": [
      "Epoch 0, loss: 3.2707\n",
      "Epoch 1, loss: 1.9822\n",
      "Epoch 2, loss: 1.2014\n",
      "Epoch 3, loss: 0.7281\n",
      "Epoch 4, loss: 0.4413\n",
      "Epoch 5, loss: 0.2675\n",
      "Epoch 6, loss: 0.1621\n",
      "Epoch 7, loss: 0.0983\n",
      "Epoch 8, loss: 0.0596\n",
      "Epoch 9, loss: 0.0361\n"
     ]
    }
   ],
   "source": [
    "train_loop(epochs)"
   ]
  },
  {
   "cell_type": "markdown",
   "metadata": {
    "slideshow": {
     "slide_type": "subslide"
    }
   },
   "source": [
    "## Getting the learned model parameters"
   ]
  },
  {
   "cell_type": "code",
   "execution_count": 20,
   "metadata": {
    "ExecuteTime": {
     "end_time": "2018-08-20T23:22:06.761000Z",
     "start_time": "2018-08-20T23:22:06.756729Z"
    },
    "slideshow": {
     "slide_type": "fragment"
    }
   },
   "outputs": [
    {
     "name": "stdout",
     "output_type": "stream",
     "text": [
      "dense0_weight \n",
      "[[ 1.84507799 -3.11706018]]\n",
      "<NDArray 1x2 @gpu(0)>\n",
      "dense0_bias \n",
      "[ 3.85613751]\n",
      "<NDArray 1 @gpu(0)>\n"
     ]
    }
   ],
   "source": [
    "params = net.collect_params() # this returns a ParameterDict\n",
    "for param in params.values():\n",
    "    print(param.name,param.data())"
   ]
  }
 ],
 "metadata": {
  "celltoolbar": "Slideshow",
  "kernelspec": {
   "display_name": "Python 3",
   "language": "python",
   "name": "python3"
  },
  "language_info": {
   "codemirror_mode": {
    "name": "ipython",
    "version": 3
   },
   "file_extension": ".py",
   "mimetype": "text/x-python",
   "name": "python",
   "nbconvert_exporter": "python",
   "pygments_lexer": "ipython3",
   "version": "3.6.4"
  },
  "rise": {
   "scroll": true
  },
  "widgets": {
   "state": {},
   "version": "1.1.2"
  }
 },
 "nbformat": 4,
 "nbformat_minor": 2
}
