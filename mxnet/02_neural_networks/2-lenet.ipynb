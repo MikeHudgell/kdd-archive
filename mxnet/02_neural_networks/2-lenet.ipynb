{
 "cells": [
  {
   "cell_type": "markdown",
   "metadata": {
    "slideshow": {
     "slide_type": "slide"
    }
   },
   "source": [
    "# Neural Networks 101 with `gluon` - Part II"
   ]
  },
  {
   "cell_type": "markdown",
   "metadata": {
    "slideshow": {
     "slide_type": "skip"
    }
   },
   "source": [
    "Now that you know how to implement a multilayer perceptron,\n",
    "we'll demonstrate how to implement a convolutional neural network, a popular approach for working with images. "
   ]
  },
  {
   "cell_type": "code",
   "execution_count": 1,
   "metadata": {
    "ExecuteTime": {
     "end_time": "2018-08-21T06:52:25.783003Z",
     "start_time": "2018-08-21T06:52:24.009935Z"
    },
    "slideshow": {
     "slide_type": "fragment"
    }
   },
   "outputs": [
    {
     "name": "stdout",
     "output_type": "stream",
     "text": [
      "Populating the interactive namespace from numpy and matplotlib\n"
     ]
    }
   ],
   "source": [
    "%pylab inline\n",
    "\n",
    "from __future__ import print_function\n",
    "\n",
    "import warnings\n",
    "warnings.filterwarnings('ignore')\n",
    "\n",
    "import numpy as np\n",
    "import mxnet as mx\n",
    "from mxnet import nd, autograd, gluon\n",
    "from mxnet.gluon import nn\n",
    "\n",
    "# ctx = mx.cpu()\n",
    "ctx = mx.gpu(0)"
   ]
  },
  {
   "cell_type": "markdown",
   "metadata": {
    "slideshow": {
     "slide_type": "slide"
    }
   },
   "source": [
    "## `Block` composition and LeNet"
   ]
  },
  {
   "cell_type": "markdown",
   "metadata": {
    "slideshow": {
     "slide_type": "skip"
    }
   },
   "source": [
    "`gluon` makes it easy to combine `Block`s in various ways to build composite `Block`s.\n",
    "\n",
    "One easy way is to use `gluon.nn.Sequential`, which takes an arbitrary number of `Block`s\n",
    "as parameters and runs them in Sequence, passing the output each `Block` as the input to its sucessor, finally returning the output of the last `Block`. \n",
    "\n",
    "Once we've defined a composite `Block` via `Sequential`, we can treat in turn, string these composite `Block`s together to build even more elaborate structures."
   ]
  },
  {
   "cell_type": "markdown",
   "metadata": {
    "slideshow": {
     "slide_type": "skip"
    }
   },
   "source": [
    "The following code implements a famous network called LeNet through nn.Sequential."
   ]
  },
  {
   "cell_type": "code",
   "execution_count": 2,
   "metadata": {
    "ExecuteTime": {
     "end_time": "2018-08-21T06:52:25.797943Z",
     "start_time": "2018-08-21T06:52:25.786124Z"
    },
    "slideshow": {
     "slide_type": "fragment"
    }
   },
   "outputs": [],
   "source": [
    "lenet = nn.Sequential()"
   ]
  },
  {
   "cell_type": "code",
   "execution_count": 3,
   "metadata": {
    "ExecuteTime": {
     "end_time": "2018-08-21T06:52:25.832462Z",
     "start_time": "2018-08-21T06:52:25.817023Z"
    },
    "slideshow": {
     "slide_type": "fragment"
    }
   },
   "outputs": [],
   "source": [
    "lenet.add(\n",
    "    nn.Conv2D(channels=6, kernel_size=5, activation='relu'),\n",
    "    nn.MaxPool2D(pool_size=2, strides=2),\n",
    "    nn.Conv2D(channels=16, kernel_size=3, activation='relu'),\n",
    "    nn.MaxPool2D(pool_size=2, strides=2),\n",
    "    nn.Flatten(),\n",
    "    nn.Dense(120, activation=\"relu\"),\n",
    "    nn.Dense(84, activation=\"relu\"),\n",
    "    nn.Dense(10))"
   ]
  },
  {
   "cell_type": "code",
   "execution_count": 4,
   "metadata": {
    "ExecuteTime": {
     "end_time": "2018-08-21T06:52:25.917748Z",
     "start_time": "2018-08-21T06:52:25.836867Z"
    },
    "scrolled": true,
    "slideshow": {
     "slide_type": "fragment"
    }
   },
   "outputs": [
    {
     "data": {
      "text/plain": [
       "Sequential(\n",
       "  (0): Conv2D(None -> 6, kernel_size=(5, 5), stride=(1, 1))\n",
       "  (1): MaxPool2D(size=(2, 2), stride=(2, 2), padding=(0, 0), ceil_mode=False)\n",
       "  (2): Conv2D(None -> 16, kernel_size=(3, 3), stride=(1, 1))\n",
       "  (3): MaxPool2D(size=(2, 2), stride=(2, 2), padding=(0, 0), ceil_mode=False)\n",
       "  (4): Flatten\n",
       "  (5): Dense(None -> 120, Activation(relu))\n",
       "  (6): Dense(None -> 84, Activation(relu))\n",
       "  (7): Dense(None -> 10, linear)\n",
       ")"
      ]
     },
     "execution_count": 4,
     "metadata": {},
     "output_type": "execute_result"
    }
   ],
   "source": [
    "lenet"
   ]
  },
  {
   "cell_type": "markdown",
   "metadata": {
    "slideshow": {
     "slide_type": "slide"
    }
   },
   "source": [
    "## Recurrent Neural Network\n",
    "\n",
    "<img src=\"rnn_unfold.png\">"
   ]
  },
  {
   "cell_type": "code",
   "execution_count": 5,
   "metadata": {
    "ExecuteTime": {
     "end_time": "2018-08-21T06:52:26.475074Z",
     "start_time": "2018-08-21T06:52:25.921246Z"
    },
    "slideshow": {
     "slide_type": "fragment"
    }
   },
   "outputs": [
    {
     "data": {
      "text/plain": [
       "[<matplotlib.lines.Line2D at 0x1a1daa3748>,\n",
       " <matplotlib.lines.Line2D at 0x1a1daa39b0>,\n",
       " <matplotlib.lines.Line2D at 0x1a1daa3b00>]"
      ]
     },
     "execution_count": 5,
     "metadata": {},
     "output_type": "execute_result"
    },
    {
     "data": {
      "image/png": "[encoded data removed]",
      "text/plain": [
       "<Figure size 432x288 with 1 Axes>"
      ]
     },
     "metadata": {},
     "output_type": "display_data"
    }
   ],
   "source": [
    "def generate_sine_data(batch_size, start, stop, step):\n",
    "    phase = mx.random.uniform(-np.pi*2, np.pi*2, shape=(1, batch_size))\n",
    "    x = (mx.nd.arange(start, stop, step).expand_dims(1) + phase)\n",
    "    return x.sin()\n",
    "x = generate_sine_data(3, 0, 5, 0.1)\n",
    "plt.plot(np.arange(0, 5, 0.1), x.asnumpy())"
   ]
  },
  {
   "cell_type": "code",
   "execution_count": 6,
   "metadata": {
    "ExecuteTime": {
     "end_time": "2018-08-21T06:57:57.568805Z",
     "start_time": "2018-08-21T06:56:49.307134Z"
    },
    "slideshow": {
     "slide_type": "fragment"
    }
   },
   "outputs": [
    {
     "name": "stdout",
     "output_type": "stream",
     "text": [
      "batch 100: loss 0.4836\n",
      "batch 200: loss 0.4134\n",
      "batch 300: loss 0.3694\n",
      "batch 400: loss 0.3212\n",
      "batch 500: loss 0.2925\n",
      "batch 600: loss 0.2684\n",
      "batch 700: loss 0.2416\n",
      "batch 800: loss 0.2197\n",
      "batch 900: loss 0.1951\n",
      "batch 1000: loss 0.1709\n"
     ]
    }
   ],
   "source": [
    "cell = gluon.rnn.LSTMCell(10)\n",
    "cell.initialize()\n",
    "rnn_trainer = gluon.Trainer(cell.collect_params(), 'sgd', {'learning_rate': .2})\n",
    "batches, batch_size = 1024, 64\n",
    "start, stop, step = 0, 5, 0.1\n",
    "steps = int(np.floor((stop-start)/step))-1\n",
    "loss = gluon.loss.L2Loss()\n",
    "for i in range(batches):\n",
    "    data = generate_sine_data(batch_size, start, stop, step)\n",
    "    rnn_input = data[0:steps].expand_dims(2)\n",
    "    rnn_target = data[1:]\n",
    "    with mx.autograd.record():\n",
    "        outputs, _ = cell.unroll(steps, rnn_input, layout='TNC', merge_outputs=True)\n",
    "        l = loss(outputs.sum(axis=2), rnn_target)\n",
    "    l.backward()\n",
    "    rnn_trainer.step(batch_size)\n",
    "    if i % 100 == 0 and i > 0:\n",
    "        print('batch {}: loss {:.4f}'.format(i, l.sum().asscalar()))"
   ]
  },
  {
   "cell_type": "markdown",
   "metadata": {
    "slideshow": {
     "slide_type": "slide"
    }
   },
   "source": [
    "## `HybridBlock` (Just-in-time compilation)"
   ]
  },
  {
   "cell_type": "markdown",
   "metadata": {
    "slideshow": {
     "slide_type": "fragment"
    }
   },
   "source": [
    "1. `gluon`: easy to program with native Python structures\n",
    "1. overhead: context switching between Python and MXNet backend\n",
    "1. hybridize: Just in time compilation "
   ]
  },
  {
   "cell_type": "markdown",
   "metadata": {
    "slideshow": {
     "slide_type": "skip"
    }
   },
   "source": [
    "`gluon` makes it easy to program with native Python structures, with nice benefits like making it easy to debug, all the context switching between Python and MXNet's low-level scheduler does come with some overhead. Once you're settled in your model and want to speed it up, Gluon's `HybridBlock`s help you to double the speed of your model by compiling the model, cutting down on context switiching and applying a number of intelligent optimizations to eliminate redundant computation and use memory efficiently."
   ]
  },
  {
   "cell_type": "markdown",
   "metadata": {
    "slideshow": {
     "slide_type": "skip"
    }
   },
   "source": [
    "Hybridizing is very easy. Every Block provides a `.hybridize()` method which will hybridize the Block itself if possible or calls `.hybridize()` on all the `Block`s it is composed of."
   ]
  },
  {
   "cell_type": "code",
   "execution_count": 7,
   "metadata": {
    "ExecuteTime": {
     "end_time": "2018-08-21T06:53:42.428598Z",
     "start_time": "2018-08-21T06:53:42.416222Z"
    },
    "slideshow": {
     "slide_type": "fragment"
    }
   },
   "outputs": [],
   "source": [
    "lenet.hybridize(static_alloc=True, static_shape=True)"
   ]
  },
  {
   "cell_type": "markdown",
   "metadata": {
    "slideshow": {
     "slide_type": "fragment"
    }
   },
   "source": [
    "``` python\n",
    "class HybridNet(gluon.HybridBlock):\n",
    "    def forward(self, F, x):\n",
    "        # Computation based on other `HybridBlock`\n",
    "```"
   ]
  },
  {
   "cell_type": "code",
   "execution_count": 8,
   "metadata": {
    "ExecuteTime": {
     "end_time": "2018-08-21T06:53:42.448274Z",
     "start_time": "2018-08-21T06:53:42.433724Z"
    },
    "slideshow": {
     "slide_type": "subslide"
    }
   },
   "outputs": [],
   "source": [
    "lenet = nn.HybridSequential()\n",
    "lenet.add(\n",
    "    nn.Conv2D(channels=6, kernel_size=5, activation='relu'),\n",
    "    nn.MaxPool2D(pool_size=2, strides=2),\n",
    "    nn.Conv2D(channels=16, kernel_size=3, activation='relu'),\n",
    "    nn.MaxPool2D(pool_size=2, strides=2),\n",
    "    nn.Flatten(),\n",
    "    nn.Dense(120, activation=\"relu\"),\n",
    "    nn.Dense(84, activation=\"relu\"),\n",
    "    nn.Dense(10))"
   ]
  },
  {
   "cell_type": "code",
   "execution_count": 9,
   "metadata": {
    "ExecuteTime": {
     "end_time": "2018-08-21T06:53:42.455289Z",
     "start_time": "2018-08-21T06:53:42.451087Z"
    },
    "slideshow": {
     "slide_type": "fragment"
    }
   },
   "outputs": [],
   "source": [
    "lenet.hybridize(static_alloc=True, static_shape=True)"
   ]
  },
  {
   "cell_type": "code",
   "execution_count": 10,
   "metadata": {
    "ExecuteTime": {
     "end_time": "2018-08-21T06:53:42.465828Z",
     "start_time": "2018-08-21T06:53:42.458722Z"
    },
    "slideshow": {
     "slide_type": "fragment"
    }
   },
   "outputs": [
    {
     "data": {
      "text/plain": [
       "HybridSequential(\n",
       "  (0): Conv2D(None -> 6, kernel_size=(5, 5), stride=(1, 1))\n",
       "  (1): MaxPool2D(size=(2, 2), stride=(2, 2), padding=(0, 0), ceil_mode=False)\n",
       "  (2): Conv2D(None -> 16, kernel_size=(3, 3), stride=(1, 1))\n",
       "  (3): MaxPool2D(size=(2, 2), stride=(2, 2), padding=(0, 0), ceil_mode=False)\n",
       "  (4): Flatten\n",
       "  (5): Dense(None -> 120, Activation(relu))\n",
       "  (6): Dense(None -> 84, Activation(relu))\n",
       "  (7): Dense(None -> 10, linear)\n",
       ")"
      ]
     },
     "execution_count": 10,
     "metadata": {},
     "output_type": "execute_result"
    }
   ],
   "source": [
    "lenet"
   ]
  },
  {
   "cell_type": "markdown",
   "metadata": {
    "slideshow": {
     "slide_type": "slide"
    }
   },
   "source": [
    "### Initialization"
   ]
  },
  {
   "cell_type": "code",
   "execution_count": 11,
   "metadata": {
    "ExecuteTime": {
     "end_time": "2018-08-21T06:53:42.489682Z",
     "start_time": "2018-08-21T06:53:42.469889Z"
    },
    "slideshow": {
     "slide_type": "fragment"
    }
   },
   "outputs": [
    {
     "data": {
      "text/plain": [
       "(4, 10)"
      ]
     },
     "execution_count": 11,
     "metadata": {},
     "output_type": "execute_result"
    }
   ],
   "source": [
    "lenet.initialize(ctx=ctx)\n",
    "# Input shape is (batch_size, color_channels, height, width)\n",
    "x = nd.random.uniform(shape=(4,1,28,28), ctx=ctx)\n",
    "y = lenet(x)\n",
    "y.shape"
   ]
  },
  {
   "cell_type": "code",
   "execution_count": 12,
   "metadata": {
    "ExecuteTime": {
     "end_time": "2018-08-21T06:53:42.499585Z",
     "start_time": "2018-08-21T06:53:42.492680Z"
    }
   },
   "outputs": [
    {
     "data": {
      "text/plain": [
       "HybridSequential(\n",
       "  (0): Conv2D(1 -> 6, kernel_size=(5, 5), stride=(1, 1))\n",
       "  (1): MaxPool2D(size=(2, 2), stride=(2, 2), padding=(0, 0), ceil_mode=False)\n",
       "  (2): Conv2D(6 -> 16, kernel_size=(3, 3), stride=(1, 1))\n",
       "  (3): MaxPool2D(size=(2, 2), stride=(2, 2), padding=(0, 0), ceil_mode=False)\n",
       "  (4): Flatten\n",
       "  (5): Dense(400 -> 120, Activation(relu))\n",
       "  (6): Dense(120 -> 84, Activation(relu))\n",
       "  (7): Dense(84 -> 10, linear)\n",
       ")"
      ]
     },
     "execution_count": 12,
     "metadata": {},
     "output_type": "execute_result"
    }
   ],
   "source": [
    "lenet"
   ]
  },
  {
   "cell_type": "markdown",
   "metadata": {
    "slideshow": {
     "slide_type": "slide"
    }
   },
   "source": [
    "### MNIST"
   ]
  },
  {
   "cell_type": "code",
   "execution_count": 13,
   "metadata": {
    "ExecuteTime": {
     "end_time": "2018-08-21T06:53:42.510543Z",
     "start_time": "2018-08-21T06:53:42.502856Z"
    },
    "slideshow": {
     "slide_type": "fragment"
    }
   },
   "outputs": [],
   "source": [
    "def normalize_and_copy(dataset, ctx):\n",
    "    data = mx.nd.array(dataset._data, ctx=ctx) \\\n",
    "                .transpose((0, 3, 1, 2)) \\\n",
    "                .astype(np.float32)/255\n",
    "    label = dataset._label\n",
    "    output = gluon.data.ArrayDataset(data, label)\n",
    "    output._data[1] = mx.nd.array(label, ctx=ctx)\n",
    "    return output"
   ]
  },
  {
   "cell_type": "code",
   "execution_count": 14,
   "metadata": {
    "ExecuteTime": {
     "end_time": "2018-08-21T06:53:43.805070Z",
     "start_time": "2018-08-21T06:53:42.514009Z"
    },
    "slideshow": {
     "slide_type": "fragment"
    }
   },
   "outputs": [],
   "source": [
    "train_data = normalize_and_copy(gluon.data.vision.MNIST(train=True), ctx)\n",
    "test_data = normalize_and_copy(gluon.data.vision.MNIST(train=False), ctx)"
   ]
  },
  {
   "cell_type": "code",
   "execution_count": 15,
   "metadata": {
    "ExecuteTime": {
     "end_time": "2018-08-21T06:53:43.821729Z",
     "start_time": "2018-08-21T06:53:43.808652Z"
    },
    "slideshow": {
     "slide_type": "fragment"
    }
   },
   "outputs": [],
   "source": [
    "batch_size = 64\n",
    "\n",
    "train_batches = mx.gluon.data.DataLoader(train_data, batch_size, shuffle=True)\n",
    "test_batches = mx.gluon.data.DataLoader(test_data, batch_size, shuffle=False)"
   ]
  },
  {
   "cell_type": "code",
   "execution_count": 16,
   "metadata": {
    "ExecuteTime": {
     "end_time": "2018-08-21T06:53:43.832919Z",
     "start_time": "2018-08-21T06:53:43.826509Z"
    },
    "slideshow": {
     "slide_type": "fragment"
    }
   },
   "outputs": [],
   "source": [
    "softmax_cross_entropy = gluon.loss.SoftmaxCrossEntropyLoss()\n",
    "trainer = gluon.Trainer(lenet.collect_params(), 'sgd', {'learning_rate': .02})"
   ]
  },
  {
   "cell_type": "markdown",
   "metadata": {
    "slideshow": {
     "slide_type": "slide"
    }
   },
   "source": [
    "### Evaluation"
   ]
  },
  {
   "cell_type": "code",
   "execution_count": 17,
   "metadata": {
    "ExecuteTime": {
     "end_time": "2018-08-21T06:53:43.842251Z",
     "start_time": "2018-08-21T06:53:43.836497Z"
    },
    "slideshow": {
     "slide_type": "fragment"
    }
   },
   "outputs": [],
   "source": [
    "def evaluate_accuracy(data_iterator, net):\n",
    "    acc = mx.metric.Accuracy()\n",
    "    for i, (data, label) in enumerate(data_iterator):\n",
    "        prediction = net(data).argmax(axis=-1, keepdims=True)\n",
    "        acc.update(preds=prediction, labels=label)\n",
    "    return acc.get()[1]"
   ]
  },
  {
   "cell_type": "markdown",
   "metadata": {
    "slideshow": {
     "slide_type": "subslide"
    }
   },
   "source": [
    "### Training"
   ]
  },
  {
   "cell_type": "code",
   "execution_count": 18,
   "metadata": {
    "ExecuteTime": {
     "end_time": "2018-08-21T06:53:43.849881Z",
     "start_time": "2018-08-21T06:53:43.846007Z"
    }
   },
   "outputs": [],
   "source": [
    "epochs = 10"
   ]
  },
  {
   "cell_type": "code",
   "execution_count": 19,
   "metadata": {
    "ExecuteTime": {
     "end_time": "2018-08-21T06:56:34.125265Z",
     "start_time": "2018-08-21T06:53:43.854501Z"
    },
    "slideshow": {
     "slide_type": "fragment"
    }
   },
   "outputs": [
    {
     "name": "stdout",
     "output_type": "stream",
     "text": [
      "Epoch 0. Loss: 2.2996, Train_acc 0.1124, Test_acc 0.1135\n",
      "Epoch 1. Loss: 1.4707, Train_acc 0.8052, Test_acc 0.8055\n",
      "Epoch 2. Loss: 0.3355, Train_acc 0.9117, Test_acc 0.9163\n",
      "Epoch 3. Loss: 0.1870, Train_acc 0.9590, Test_acc 0.9585\n",
      "Epoch 4. Loss: 0.1373, Train_acc 0.9654, Test_acc 0.9649\n",
      "Epoch 5. Loss: 0.1120, Train_acc 0.9710, Test_acc 0.9693\n",
      "Epoch 6. Loss: 0.0967, Train_acc 0.9728, Test_acc 0.9728\n",
      "Epoch 7. Loss: 0.0855, Train_acc 0.9759, Test_acc 0.9737\n",
      "Epoch 8. Loss: 0.0766, Train_acc 0.9764, Test_acc 0.9761\n",
      "Epoch 9. Loss: 0.0700, Train_acc 0.9788, Test_acc 0.9761\n"
     ]
    }
   ],
   "source": [
    "for e in range(epochs):\n",
    "    cumulative_loss = 0\n",
    "    for i, (data, label) in enumerate(train_batches):\n",
    "        with autograd.record():\n",
    "            output = lenet(data)\n",
    "            loss = softmax_cross_entropy(output, label)\n",
    "        loss.backward()\n",
    "        trainer.step(data.shape[0])\n",
    "        cumulative_loss += nd.sum(loss)\n",
    "\n",
    "    train_accuracy = evaluate_accuracy(train_batches, lenet)\n",
    "    test_accuracy = evaluate_accuracy(test_batches, lenet)\n",
    "    print(\"Epoch %s. Loss: %.4f, Train_acc %.4f, Test_acc %.4f\" %\n",
    "          (e, cumulative_loss.asscalar()/len(train_data), train_accuracy, test_accuracy))"
   ]
  }
 ],
 "metadata": {
  "celltoolbar": "Slideshow",
  "kernelspec": {
   "display_name": "Python 3",
   "language": "python",
   "name": "python3"
  },
  "language_info": {
   "codemirror_mode": {
    "name": "ipython",
    "version": 3
   },
   "file_extension": ".py",
   "mimetype": "text/x-python",
   "name": "python",
   "nbconvert_exporter": "python",
   "pygments_lexer": "ipython3",
   "version": "3.6.6"
  },
  "rise": {
   "scroll": true
  }
 },
 "nbformat": 4,
 "nbformat_minor": 2
}
