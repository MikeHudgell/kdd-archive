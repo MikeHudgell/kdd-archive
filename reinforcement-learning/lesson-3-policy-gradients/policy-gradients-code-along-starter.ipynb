{
 "cells": [
  {
   "cell_type": "code",
   "execution_count": 1,
   "metadata": {},
   "outputs": [],
   "source": [
    "import argparse\n",
    "import gym\n",
    "from typing import List\n",
    "import numpy as np\n",
    "from itertools import count\n",
    "from collections import namedtuple\n",
    "\n",
    "import torch\n",
    "import torch.nn as nn\n",
    "import torch.nn.functional as F\n",
    "import torch.optim as optim\n",
    "from torch.distributions import Categorical\n",
    "from matplotlib import pyplot as plt\n"
   ]
  },
  {
   "cell_type": "code",
   "execution_count": 2,
   "metadata": {},
   "outputs": [
    {
     "name": "stdout",
     "output_type": "stream",
     "text": [
      "\u001b[33mWARN: gym.spaces.Box autodetected dtype as <class 'numpy.float32'>. Please provide explicit dtype.\u001b[0m\n"
     ]
    }
   ],
   "source": [
    "env = gym.make('CartPole-v0')"
   ]
  },
  {
   "cell_type": "markdown",
   "metadata": {},
   "source": [
    "## Helper Utilities "
   ]
  },
  {
   "cell_type": "code",
   "execution_count": 3,
   "metadata": {},
   "outputs": [],
   "source": [
    "# Types for the Lesson\n",
    "State = np.array\n",
    "Action = int\n",
    "Reward = float\n",
    "Loss = float"
   ]
  },
  {
   "cell_type": "code",
   "execution_count": 120,
   "metadata": {},
   "outputs": [],
   "source": [
    "GAMMA = 0.999"
   ]
  },
  {
   "cell_type": "markdown",
   "metadata": {},
   "source": [
    "## Vanilla Policy Gradients with REINFORCE"
   ]
  },
  {
   "cell_type": "markdown",
   "metadata": {},
   "source": [
    "### Define a Policy \n",
    "\n",
    "In Policy Gradient methods, we optimize a policy directly. This is a more natural version of the RL Problem. "
   ]
  },
  {
   "cell_type": "code",
   "execution_count": 128,
   "metadata": {},
   "outputs": [],
   "source": [
    "class Policy(nn.Module):\n",
    "    def __init__(self):\n",
    "        super(Policy, self).__init__()\n",
    "        self.affine1 = nn.Linear(4, 128)\n",
    "        self.affine2 = nn.Linear(128, 2)\n",
    "\n",
    "        self.saved_log_probs = []\n",
    "        self.rewards = []\n",
    "\n",
    "    def forward(self, state: State) -> torch.Tensor:\n",
    "        state = F.relu(self.affine1(state))\n",
    "        action_scores = self.affine2(state)\n",
    "        return F.softmax(action_scores, dim=1)"
   ]
  },
  {
   "cell_type": "markdown",
   "metadata": {},
   "source": [
    "### Select Action from Samples "
   ]
  },
  {
   "cell_type": "code",
   "execution_count": 129,
   "metadata": {},
   "outputs": [],
   "source": [
    "def select_action(state: State) -> Action:\n",
    "    \"\"\"Given State use the instantiated policy to take the best action\n",
    "    \"\"\"\n",
    "    pass \n"
   ]
  },
  {
   "cell_type": "markdown",
   "metadata": {},
   "source": [
    "### Calculate Discounted Rewards and Calculate Policy Loss Function "
   ]
  },
  {
   "cell_type": "code",
   "execution_count": 130,
   "metadata": {},
   "outputs": [],
   "source": [
    "def calculate_discounted_rewards(\n",
    "    rewards: List[Reward],\n",
    "    discount: float=GAMMA\n",
    ") -> torch.tensor:\n",
    "    \"\"\"Calculate Discounted Sum of Rewards \n",
    "    \"\"\"\n",
    "    pass "
   ]
  },
  {
   "cell_type": "code",
   "execution_count": 131,
   "metadata": {},
   "outputs": [],
   "source": [
    "def calculate_policy_loss(\n",
    "    log_probs: List[float],\n",
    "    rewards: torch.tensor\n",
    ") -> List[Loss]:\n",
    "    \"\"\"Calculate the Policy Loss \n",
    "    \"\"\"\n",
    "    pass "
   ]
  },
  {
   "cell_type": "markdown",
   "metadata": {},
   "source": [
    "**Instantiate the Policy**"
   ]
  },
  {
   "cell_type": "code",
   "execution_count": 132,
   "metadata": {},
   "outputs": [],
   "source": [
    "policy = Policy()\n",
    "optimizer = optim.Adam(policy.parameters(), lr=1e-2)\n",
    "eps = np.finfo(np.float32).eps.item()"
   ]
  },
  {
   "cell_type": "markdown",
   "metadata": {},
   "source": [
    "**Training Loop**"
   ]
  },
  {
   "cell_type": "code",
   "execution_count": 133,
   "metadata": {},
   "outputs": [
    {
     "name": "stderr",
     "output_type": "stream",
     "text": [
      "/Users/vora-family/Desktop/rl-talk-kdd/lib/python3.6/site-packages/numpy/core/fromnumeric.py:2920: RuntimeWarning: Mean of empty slice.\n",
      "  out=out, **kwargs)\n",
      "/Users/vora-family/Desktop/rl-talk-kdd/lib/python3.6/site-packages/numpy/core/_methods.py:85: RuntimeWarning: invalid value encountered in double_scalars\n",
      "  ret = ret.dtype.type(ret / rcount)\n"
     ]
    },
    {
     "name": "stdout",
     "output_type": "stream",
     "text": [
      "Episode 10\tLast Reward:    24\tAverage Reward: 33.11\n",
      "Episode 20\tLast Reward:    65\tAverage Reward: 47.68\n",
      "Episode 30\tLast Reward:   130\tAverage Reward: 66.10\n",
      "Episode 40\tLast Reward:    34\tAverage Reward: 70.90\n",
      "Episode 50\tLast Reward:    20\tAverage Reward: 62.65\n",
      "Episode 60\tLast Reward:    53\tAverage Reward: 56.85\n",
      "Episode 70\tLast Reward:    81\tAverage Reward: 57.20\n",
      "Episode 80\tLast Reward:    43\tAverage Reward: 62.05\n",
      "Episode 90\tLast Reward:    45\tAverage Reward: 60.31\n",
      "Episode 100\tLast Reward:    36\tAverage Reward: 58.88\n",
      "Episode 110\tLast Reward:    38\tAverage Reward: 60.68\n",
      "Episode 120\tLast Reward:    69\tAverage Reward: 62.60\n",
      "Episode 130\tLast Reward:    52\tAverage Reward: 60.66\n",
      "Episode 140\tLast Reward:    57\tAverage Reward: 58.06\n",
      "Episode 150\tLast Reward:   110\tAverage Reward: 64.55\n",
      "Episode 160\tLast Reward:   171\tAverage Reward: 76.48\n",
      "Episode 170\tLast Reward:   168\tAverage Reward: 88.67\n",
      "Episode 180\tLast Reward:   113\tAverage Reward: 94.74\n",
      "Episode 190\tLast Reward:   106\tAverage Reward: 100.29\n",
      "Episode 200\tLast Reward:    84\tAverage Reward: 105.67\n",
      "Episode 210\tLast Reward:   106\tAverage Reward: 110.07\n",
      "Episode 220\tLast Reward:    86\tAverage Reward: 112.46\n",
      "Episode 230\tLast Reward:    78\tAverage Reward: 113.57\n",
      "Episode 240\tLast Reward:   121\tAverage Reward: 119.01\n",
      "Episode 250\tLast Reward:   116\tAverage Reward: 123.30\n",
      "Episode 260\tLast Reward:   124\tAverage Reward: 123.18\n",
      "Episode 270\tLast Reward:   138\tAverage Reward: 119.77\n",
      "Episode 280\tLast Reward:   144\tAverage Reward: 116.89\n",
      "Episode 290\tLast Reward:   115\tAverage Reward: 120.59\n",
      "Episode 300\tLast Reward:   199\tAverage Reward: 125.29\n",
      "Episode 310\tLast Reward:    94\tAverage Reward: 127.48\n",
      "Episode 320\tLast Reward:    70\tAverage Reward: 123.37\n",
      "Episode 330\tLast Reward:    46\tAverage Reward: 119.72\n",
      "Episode 340\tLast Reward:    58\tAverage Reward: 114.35\n",
      "Episode 350\tLast Reward:    73\tAverage Reward: 107.75\n",
      "Episode 360\tLast Reward:    67\tAverage Reward: 101.20\n",
      "Episode 370\tLast Reward:   107\tAverage Reward: 94.33\n",
      "Episode 380\tLast Reward:   125\tAverage Reward: 94.44\n",
      "Episode 390\tLast Reward:   156\tAverage Reward: 93.64\n",
      "Episode 400\tLast Reward:   105\tAverage Reward: 90.80\n",
      "Episode 410\tLast Reward:    72\tAverage Reward: 90.19\n",
      "Episode 420\tLast Reward:   113\tAverage Reward: 93.06\n",
      "Episode 430\tLast Reward:   155\tAverage Reward: 101.12\n",
      "Episode 440\tLast Reward:   117\tAverage Reward: 105.90\n",
      "Episode 450\tLast Reward:   154\tAverage Reward: 111.82\n",
      "Episode 460\tLast Reward:   199\tAverage Reward: 116.01\n",
      "Episode 470\tLast Reward:   163\tAverage Reward: 126.53\n",
      "Episode 480\tLast Reward:    65\tAverage Reward: 127.47\n",
      "Episode 490\tLast Reward:    75\tAverage Reward: 121.80\n",
      "Episode 500\tLast Reward:    71\tAverage Reward: 117.61\n",
      "Episode 510\tLast Reward:    87\tAverage Reward: 114.92\n",
      "Episode 520\tLast Reward:   141\tAverage Reward: 116.47\n",
      "Episode 530\tLast Reward:   121\tAverage Reward: 115.49\n",
      "Episode 540\tLast Reward:   199\tAverage Reward: 120.36\n",
      "Episode 550\tLast Reward:   199\tAverage Reward: 126.63\n",
      "Episode 560\tLast Reward:   199\tAverage Reward: 133.36\n",
      "Episode 570\tLast Reward:   199\tAverage Reward: 134.90\n",
      "Episode 580\tLast Reward:   199\tAverage Reward: 141.01\n",
      "Episode 590\tLast Reward:   144\tAverage Reward: 151.24\n",
      "Episode 600\tLast Reward:   180\tAverage Reward: 158.98\n",
      "Episode 610\tLast Reward:   154\tAverage Reward: 166.53\n",
      "Episode 620\tLast Reward:   142\tAverage Reward: 168.84\n",
      "Episode 630\tLast Reward:   112\tAverage Reward: 171.07\n",
      "Episode 640\tLast Reward:   114\tAverage Reward: 167.08\n",
      "Episode 650\tLast Reward:   105\tAverage Reward: 158.37\n",
      "Episode 660\tLast Reward:    77\tAverage Reward: 148.76\n",
      "Episode 670\tLast Reward:   104\tAverage Reward: 137.01\n",
      "Episode 680\tLast Reward:    86\tAverage Reward: 126.38\n",
      "Episode 690\tLast Reward:    86\tAverage Reward: 117.76\n",
      "Episode 700\tLast Reward:    83\tAverage Reward: 111.46\n",
      "Episode 710\tLast Reward:    58\tAverage Reward: 102.48\n",
      "Episode 720\tLast Reward:    60\tAverage Reward: 95.80\n",
      "Episode 730\tLast Reward:    62\tAverage Reward: 87.57\n",
      "Episode 740\tLast Reward:    75\tAverage Reward: 82.34\n",
      "Episode 750\tLast Reward:    72\tAverage Reward: 79.93\n",
      "Episode 760\tLast Reward:    75\tAverage Reward: 77.85\n",
      "Episode 770\tLast Reward:    79\tAverage Reward: 77.09\n",
      "Episode 780\tLast Reward:    75\tAverage Reward: 77.15\n",
      "Episode 790\tLast Reward:    69\tAverage Reward: 75.59\n",
      "Episode 800\tLast Reward:    88\tAverage Reward: 73.66\n",
      "Episode 810\tLast Reward:    82\tAverage Reward: 75.28\n",
      "Episode 820\tLast Reward:    91\tAverage Reward: 79.92\n",
      "Episode 830\tLast Reward:    86\tAverage Reward: 83.02\n",
      "Episode 840\tLast Reward:    64\tAverage Reward: 84.06\n",
      "Episode 850\tLast Reward:    51\tAverage Reward: 82.10\n",
      "Episode 860\tLast Reward:    48\tAverage Reward: 80.57\n",
      "Episode 870\tLast Reward:    69\tAverage Reward: 78.87\n",
      "Episode 880\tLast Reward:    55\tAverage Reward: 76.00\n",
      "Episode 890\tLast Reward:    78\tAverage Reward: 75.58\n",
      "Episode 900\tLast Reward:    67\tAverage Reward: 76.60\n",
      "Episode 910\tLast Reward:    84\tAverage Reward: 75.59\n",
      "Episode 920\tLast Reward:    62\tAverage Reward: 72.46\n",
      "Episode 930\tLast Reward:    75\tAverage Reward: 69.59\n",
      "Episode 940\tLast Reward:    91\tAverage Reward: 69.15\n",
      "Episode 950\tLast Reward:   101\tAverage Reward: 72.27\n",
      "Episode 960\tLast Reward:    64\tAverage Reward: 75.81\n",
      "Episode 970\tLast Reward:    57\tAverage Reward: 77.11\n",
      "Episode 980\tLast Reward:    62\tAverage Reward: 77.86\n",
      "Episode 990\tLast Reward:   106\tAverage Reward: 78.27\n",
      "Episode 1000\tLast Reward:   148\tAverage Reward: 80.02\n",
      "Episode 1010\tLast Reward:   104\tAverage Reward: 83.82\n",
      "Episode 1020\tLast Reward:    98\tAverage Reward: 88.78\n",
      "Episode 1030\tLast Reward:   106\tAverage Reward: 93.77\n",
      "Episode 1040\tLast Reward:   133\tAverage Reward: 98.19\n",
      "Episode 1050\tLast Reward:   127\tAverage Reward: 101.59\n",
      "Episode 1060\tLast Reward:   129\tAverage Reward: 106.55\n",
      "Episode 1070\tLast Reward:   102\tAverage Reward: 111.72\n",
      "Episode 1080\tLast Reward:   114\tAverage Reward: 115.50\n",
      "Episode 1090\tLast Reward:   137\tAverage Reward: 119.86\n",
      "Episode 1100\tLast Reward:   104\tAverage Reward: 121.82\n",
      "Episode 1110\tLast Reward:    98\tAverage Reward: 122.12\n",
      "Episode 1120\tLast Reward:   141\tAverage Reward: 121.70\n",
      "Episode 1130\tLast Reward:   187\tAverage Reward: 126.11\n",
      "Episode 1140\tLast Reward:   199\tAverage Reward: 133.94\n",
      "Episode 1150\tLast Reward:   199\tAverage Reward: 140.98\n",
      "Episode 1160\tLast Reward:   199\tAverage Reward: 146.58\n",
      "Episode 1170\tLast Reward:   199\tAverage Reward: 154.32\n",
      "Episode 1180\tLast Reward:   199\tAverage Reward: 163.23\n",
      "Episode 1190\tLast Reward:   199\tAverage Reward: 171.29\n",
      "Episode 1200\tLast Reward:   199\tAverage Reward: 179.29\n",
      "Episode 1210\tLast Reward:   199\tAverage Reward: 187.25\n",
      "Episode 1220\tLast Reward:   159\tAverage Reward: 193.45\n",
      "Episode 1230\tLast Reward:   135\tAverage Reward: 191.18\n",
      "Episode 1240\tLast Reward:   156\tAverage Reward: 186.27\n",
      "Episode 1250\tLast Reward:   141\tAverage Reward: 180.83\n",
      "Episode 1260\tLast Reward:   119\tAverage Reward: 174.67\n",
      "Episode 1270\tLast Reward:    91\tAverage Reward: 165.60\n",
      "Episode 1280\tLast Reward:    35\tAverage Reward: 150.50\n",
      "Episode 1290\tLast Reward:    24\tAverage Reward: 134.09\n",
      "Episode 1300\tLast Reward:    29\tAverage Reward: 117.74\n",
      "Episode 1310\tLast Reward:   101\tAverage Reward: 106.73\n",
      "Episode 1320\tLast Reward:   108\tAverage Reward: 98.68\n",
      "Episode 1330\tLast Reward:    93\tAverage Reward: 94.55\n",
      "Episode 1340\tLast Reward:    93\tAverage Reward: 89.18\n",
      "Episode 1350\tLast Reward:    83\tAverage Reward: 82.44\n",
      "Episode 1360\tLast Reward:    79\tAverage Reward: 75.70\n",
      "Episode 1370\tLast Reward:    89\tAverage Reward: 71.98\n",
      "Episode 1380\tLast Reward:    95\tAverage Reward: 76.52\n",
      "Episode 1390\tLast Reward:   112\tAverage Reward: 83.77\n",
      "Episode 1400\tLast Reward:   128\tAverage Reward: 92.71\n",
      "Episode 1410\tLast Reward:   130\tAverage Reward: 96.30\n",
      "Episode 1420\tLast Reward:   156\tAverage Reward: 100.49\n",
      "Episode 1430\tLast Reward:   154\tAverage Reward: 107.54\n",
      "Episode 1440\tLast Reward:   156\tAverage Reward: 114.44\n",
      "Episode 1450\tLast Reward:   170\tAverage Reward: 122.78\n",
      "Episode 1460\tLast Reward:   159\tAverage Reward: 132.27\n",
      "Episode 1470\tLast Reward:   155\tAverage Reward: 140.65\n",
      "Episode 1480\tLast Reward:   172\tAverage Reward: 147.68\n",
      "Episode 1490\tLast Reward:   175\tAverage Reward: 154.22\n",
      "Episode 1500\tLast Reward:   199\tAverage Reward: 160.42\n",
      "Episode 1510\tLast Reward:   199\tAverage Reward: 167.84\n",
      "Episode 1520\tLast Reward:   199\tAverage Reward: 173.02\n",
      "Episode 1530\tLast Reward:   199\tAverage Reward: 175.93\n"
     ]
    },
    {
     "name": "stdout",
     "output_type": "stream",
     "text": [
      "Episode 1540\tLast Reward:   199\tAverage Reward: 179.98\n",
      "Episode 1550\tLast Reward:   199\tAverage Reward: 183.82\n",
      "Episode 1560\tLast Reward:   199\tAverage Reward: 187.23\n",
      "Episode 1570\tLast Reward:   199\tAverage Reward: 191.64\n",
      "Episode 1580\tLast Reward:   199\tAverage Reward: 195.17\n",
      "Solved! Average reward is now 195.17 and the last episode runs to 199 time steps!\n"
     ]
    }
   ],
   "source": [
    "running_rewards = []\n",
    "last_number_of_episodes = 100\n",
    "\n",
    "\n",
    "for episode in count(1):\n",
    "    state = env.reset()\n",
    "    length_of_episode = 0\n",
    "    done = False\n",
    "    \n",
    "    for t in range(10000):  # Don't infinite loop while learning\n",
    "        action = select_action(state)\n",
    "        state, reward, done, _ = env.step(action)\n",
    "        policy.rewards.append(reward)\n",
    "        if done:\n",
    "            break\n",
    "\n",
    "    \n",
    "    # Caculate Discounted Rewards \n",
    "    rewards = calculate_discounted_rewards(policy.rewards[::-1])\n",
    "    rewards = torch.tensor(rewards)\n",
    "    rewards = (rewards - rewards.mean()) / (rewards.std() + eps)\n",
    "    \n",
    "    # Caculate the Policy Loss \n",
    "    policy_loss = calculate_policy_loss(policy.saved_log_probs, rewards)\n",
    "    \n",
    "    \n",
    "    # Do the Backwards Pass to Update the Policy Gradient \n",
    "    optimizer.zero_grad()\n",
    "    policy_loss = torch.cat(policy_loss).sum()\n",
    "    policy_loss.backward()\n",
    "    optimizer.step()\n",
    "    \n",
    "    del policy.rewards[:]\n",
    "    del policy.saved_log_probs[:]\n",
    "    \n",
    "    average_reward = np.mean(running_rewards[-last_number_of_episodes:])\n",
    "    if episode % 10 == 0:\n",
    "        print('Episode {}\\tLast Reward: {:5d}\\tAverage Reward: {:.2f}'.format(\n",
    "            episode, t, average_reward))\n",
    "    if average_reward > env.spec.reward_threshold:\n",
    "        print(\"Solved! Average reward is now {} and \"\n",
    "              \"the last episode runs to {} time steps!\".format(average_reward, t))\n",
    "        break\n",
    "    running_rewards.append(t)"
   ]
  },
  {
   "cell_type": "code",
   "execution_count": 134,
   "metadata": {},
   "outputs": [
    {
     "data": {
      "image/png": "[encoded data removed]",
      "text/plain": [
       "<Figure size 432x288 with 1 Axes>"
      ]
     },
     "metadata": {},
     "output_type": "display_data"
    }
   ],
   "source": [
    "rewards = np.array(running_rewards)\n",
    "rewards_mean = np.mean(rewards)\n",
    "rewards_std = np.std(rewards)\n",
    "\n",
    "\n",
    "plt.plot(running_rewards)\n",
    "plt.fill_between(\n",
    "    range(len(rewards)),\n",
    "    rewards-rewards_std, \n",
    "    rewards+rewards_std, \n",
    "    color='orange', \n",
    "    alpha=0.2\n",
    ")\n",
    "plt.title(\n",
    "    'Rewards Mean: {:.2f}, Standard Deviation: {:.2f}'.format(\n",
    "        np.mean(running_rewards),\n",
    "        np.std(running_rewards)\n",
    "    )\n",
    ")\n",
    "plt.show()"
   ]
  },
  {
   "cell_type": "markdown",
   "metadata": {},
   "source": [
    "We eventually converge but look at the variance. **Phew, how can we decrease the convergence time?**"
   ]
  },
  {
   "cell_type": "markdown",
   "metadata": {},
   "source": [
    "_Inspiration for Implementation_: Soumith Chintala & Pytorch Developers"
   ]
  }
 ],
 "metadata": {
  "hide_input": false,
  "kernelspec": {
   "display_name": "Python 3",
   "language": "python",
   "name": "python3"
  },
  "language_info": {
   "codemirror_mode": {
    "name": "ipython",
    "version": 3
   },
   "file_extension": ".py",
   "mimetype": "text/x-python",
   "name": "python",
   "nbconvert_exporter": "python",
   "pygments_lexer": "ipython3",
   "version": "3.6.4"
  },
  "toc": {
   "nav_menu": {},
   "number_sections": true,
   "sideBar": true,
   "skip_h1_title": false,
   "title_cell": "Table of Contents",
   "title_sidebar": "Contents",
   "toc_cell": false,
   "toc_position": {},
   "toc_section_display": true,
   "toc_window_display": false
  },
  "varInspector": {
   "cols": {
    "lenName": 16,
    "lenType": 16,
    "lenVar": 40
   },
   "kernels_config": {
    "python": {
     "delete_cmd_postfix": "",
     "delete_cmd_prefix": "del ",
     "library": "var_list.py",
     "varRefreshCmd": "print(var_dic_list())"
    },
    "r": {
     "delete_cmd_postfix": ") ",
     "delete_cmd_prefix": "rm(",
     "library": "var_list.r",
     "varRefreshCmd": "cat(var_dic_list()) "
    }
   },
   "types_to_exclude": [
    "module",
    "function",
    "builtin_function_or_method",
    "instance",
    "_Feature"
   ],
   "window_display": false
  }
 },
 "nbformat": 4,
 "nbformat_minor": 2
}
