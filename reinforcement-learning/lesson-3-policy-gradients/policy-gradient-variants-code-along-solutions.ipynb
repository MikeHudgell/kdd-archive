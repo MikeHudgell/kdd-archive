{
 "cells": [
  {
   "cell_type": "markdown",
   "metadata": {},
   "source": [
    "# Actor-Critic & PPO"
   ]
  },
  {
   "cell_type": "markdown",
   "metadata": {},
   "source": [
    "In this implementation, we solve a couple issues with vanilla policy gradients.\n",
    "\n",
    "1. We add a critic to prevent taking below-average actions\n",
    "2. We prevent policy weight updates from drifting too far by clipping the ratio of probabilities of actions taken (this will make more sense later)"
   ]
  },
  {
   "cell_type": "code",
   "execution_count": 46,
   "metadata": {},
   "outputs": [],
   "source": [
    "import argparse\n",
    "from collections import namedtuple\n",
    "from copy import deepcopy\n",
    "from itertools import count\n",
    "\n",
    "\n",
    "import gym\n",
    "import numpy as np\n",
    "import ray\n",
    "import torch\n",
    "import torch.nn.functional as F\n",
    "from torch import nn, tensor\n",
    "from torch.distributions.categorical import Categorical\n",
    "from torch.nn import Linear\n",
    "from torch.optim import Adam\n",
    "from matplotlib import pyplot as plt"
   ]
  },
  {
   "cell_type": "code",
   "execution_count": 51,
   "metadata": {},
   "outputs": [],
   "source": [
    "gym.logger.set_level(40)"
   ]
  },
  {
   "cell_type": "markdown",
   "metadata": {},
   "source": [
    "Yes, we're beating a dead horse with CartPole, but it really is useful for prototyping algorithms."
   ]
  },
  {
   "cell_type": "code",
   "execution_count": 2,
   "metadata": {},
   "outputs": [],
   "source": [
    "ENV = 'CartPole-v0'"
   ]
  },
  {
   "cell_type": "markdown",
   "metadata": {},
   "source": [
    "## Hyperparameters"
   ]
  },
  {
   "cell_type": "code",
   "execution_count": 31,
   "metadata": {},
   "outputs": [],
   "source": [
    "EPSILON = 0.15\n",
    "GAMMA = .999"
   ]
  },
  {
   "cell_type": "markdown",
   "metadata": {},
   "source": [
    "## Define Model\n",
    "\n",
    "A model is a policy and a value function, VF (it's used to compute an advantage later). This VF (the *critic*) penalizes taking below-average value actions since it estimates the average value of all actions.\n",
    "\n",
    "We could make the policy and VF part of a 2-headed neural network, but we decided to keep this simple and just make them separate networks."
   ]
  },
  {
   "cell_type": "code",
   "execution_count": 32,
   "metadata": {},
   "outputs": [
    {
     "name": "stdout",
     "output_type": "stream",
     "text": [
      "\u001b[33mWARN: gym.spaces.Box autodetected dtype as <class 'numpy.float32'>. Please provide explicit dtype.\u001b[0m\n"
     ]
    }
   ],
   "source": [
    "env = gym.make(ENV)\n",
    "\n",
    "state_size = int(np.prod(env.observation_space.shape))\n",
    "action_size = int(env.action_space.n)"
   ]
  },
  {
   "cell_type": "code",
   "execution_count": 5,
   "metadata": {},
   "outputs": [],
   "source": [
    "# Coupling policy and value function didn't help much.\n",
    "class Policy(nn.Module):\n",
    "    def __init__(self, state_size, action_size, hidden_size=50):\n",
    "        super().__init__()\n",
    "\n",
    "        S, A, H = state_size, action_size, hidden_size\n",
    "\n",
    "        self.h1 = Linear(S, H)\n",
    "        self.h2 = Linear(H, H)\n",
    "        self.out = Linear(H, A)\n",
    "\n",
    "    def forward(self, s):\n",
    "        s = F.relu(self.h1(s))\n",
    "        s = F.relu(self.h2(s))\n",
    "        s = F.softmax(self.out(s), dim=None)\n",
    "        p = Categorical(s)\n",
    "        return p\n",
    "\n",
    "\n",
    "class VF(nn.Module):\n",
    "    def __init__(self, state_size, hidden_size=50):\n",
    "        super().__init__()\n",
    "\n",
    "        S, H = state_size, hidden_size\n",
    "\n",
    "        self.h1 = Linear(S, H)\n",
    "        self.h2 = Linear(H, H)\n",
    "        self.out = Linear(H, 1)\n",
    "\n",
    "    def forward(self, s):\n",
    "        s = F.relu(self.h1(s))\n",
    "        s = F.relu(self.h2(s))\n",
    "        return self.out(s)"
   ]
  },
  {
   "cell_type": "markdown",
   "metadata": {},
   "source": [
    "We just combine the policy and value function in a wrapper class to make things easier later. (This is essentially a tuple.)"
   ]
  },
  {
   "cell_type": "code",
   "execution_count": 6,
   "metadata": {},
   "outputs": [],
   "source": [
    "class Model:\n",
    "    def __init__(self, state_size, action_size, hidden_size=50):\n",
    "        self.policy = Policy(state_size, action_size, hidden_size)\n",
    "        self.vf = VF(state_size, hidden_size)\n",
    "\n",
    "    def __call__(self, s):\n",
    "        return self.policy(s)"
   ]
  },
  {
   "cell_type": "markdown",
   "metadata": {},
   "source": [
    "## Data gathering\n",
    "\n",
    "Same as vanilla PG, except for one thing:\n",
    "\n",
    "We gather data with the old model so we can be sure the new model does not have its weights drift too far in one gradient update."
   ]
  },
  {
   "cell_type": "code",
   "execution_count": 7,
   "metadata": {},
   "outputs": [],
   "source": [
    "Rollout = namedtuple(\"Rollout\", [\"states\", \"actions\", \"rewards\"])"
   ]
  },
  {
   "cell_type": "code",
   "execution_count": 15,
   "metadata": {},
   "outputs": [],
   "source": [
    "def gather_data(old_model):\n",
    "    \"\"\"Execute one rollout.\"\"\"\n",
    "    env = gym.make(ENV)\n",
    "    s, done = env.reset(), False\n",
    "\n",
    "    rollout = Rollout(states=[], actions=[], rewards=[])\n",
    "\n",
    "    while not done:\n",
    "        s = torch.from_numpy(s).float()\n",
    "        p = old_model(s)\n",
    "        a = p.sample()\n",
    "\n",
    "        with torch.no_grad():\n",
    "            succ, r, done, _ = env.step(a.numpy())\n",
    "\n",
    "        rollout.states.append(s)\n",
    "        rollout.actions.append(a)\n",
    "        rollout.rewards.append(r)\n",
    "\n",
    "        s = succ\n",
    "\n",
    "    return rollout"
   ]
  },
  {
   "cell_type": "markdown",
   "metadata": {},
   "source": [
    "## Preventing policy drift\n",
    "\n",
    "One of the issues with PG is that it can make too large an update in a single round of training and end up taking totally different actions from the previous round, which can ruin the data it gathers. Imagine turning right every day on the way to work and one day, you suddenly turn left. Your observations from that will be totally unlike what you've seen before and your actions will be essentially random since you're in an new and unexplored part of the environment.\n",
    "\n",
    "We prevent this by basically clipping the new policy. We calculate the probability of actions taken under the old and new policies, and clip if their ratio is too large."
   ]
  },
  {
   "cell_type": "markdown",
   "metadata": {},
   "source": [
    "## Training\n",
    "\n",
    "This implements the basic logic of PPO. \n",
    "\n",
    "1. Turn training data into torch tensors and discount the rewards.\n",
    "2. Update the value function and compute advantages\n",
    "3. Compute probabilities of actions taken, under old and new policies\n",
    "4. Get ratio of those probabilities\n",
    "5. Clip if it improves the loss\n",
    "6. Backprop total loss and update policy and VF"
   ]
  },
  {
   "cell_type": "markdown",
   "metadata": {},
   "source": [
    "<img src=https://blog.openai.com/content/images/2017/07/math_PPO_5-1.png>\n",
    "<em><center> Source: OpenAI </center></em>"
   ]
  },
  {
   "cell_type": "code",
   "execution_count": 9,
   "metadata": {},
   "outputs": [],
   "source": [
    "def get_discounted_returns(rewards):\n",
    "    discounted_rewards = [GAMMA**t * r for t, r in enumerate(rewards)]\n",
    "\n",
    "    cumulative_returns = tensor([\n",
    "        sum(discounted_rewards[t:]) for t, _ in enumerate(discounted_rewards)\n",
    "    ])\n",
    "    \n",
    "    return cumulative_returns"
   ]
  },
  {
   "cell_type": "code",
   "execution_count": 10,
   "metadata": {},
   "outputs": [],
   "source": [
    "def train(model, old_model, data) -> float:\n",
    "    \"\"\"Statefully trains on batch of data.\"\"\"\n",
    "    states, actions, rewards = data\n",
    "\n",
    "    states = torch.stack(states)\n",
    "    actions = torch.stack(actions)\n",
    "\n",
    "    cumulative_returns = get_discounted_returns(rewards)\n",
    "\n",
    "    state_values = model.vf(states).reshape(-1)\n",
    "    \n",
    "    # Compute critic-adjusted returns\n",
    "    adv = cumulative_returns - state_values\n",
    "    # Update VF\n",
    "    vf_loss = F.mse_loss(state_values, cumulative_returns)\n",
    "\n",
    "    # Old model is copied anyway, so no updates to it are necessary.\n",
    "    with torch.no_grad():\n",
    "        log_probs_old = old_model(states).log_prob(actions)\n",
    "    log_probs_curr = model(states).log_prob(actions)\n",
    "\n",
    "    ratio = torch.exp(log_probs_curr - log_probs_old)\n",
    "\n",
    "    policy_loss = torch.min(-(adv * ratio).mean(),\n",
    "                            -(adv * ratio.clamp(1 - EPSILON, 1 + EPSILON)).mean())\n",
    "\n",
    "    loss = policy_loss + vf_loss\n",
    "\n",
    "    optimizer = Adam(\n",
    "        list(model.policy.parameters()) + list(model.vf.parameters()))\n",
    "    optimizer.zero_grad()\n",
    "    loss.backward()\n",
    "    optimizer.step()\n",
    "\n",
    "    return loss"
   ]
  },
  {
   "cell_type": "markdown",
   "metadata": {},
   "source": [
    "## Main loop"
   ]
  },
  {
   "cell_type": "markdown",
   "metadata": {},
   "source": [
    "**Instantiate a Policy**"
   ]
  },
  {
   "cell_type": "code",
   "execution_count": 48,
   "metadata": {},
   "outputs": [],
   "source": [
    "model = Model(state_size, action_size)\n",
    "old_model = deepcopy(model)"
   ]
  },
  {
   "cell_type": "markdown",
   "metadata": {},
   "source": [
    "### Run the Training Loop"
   ]
  },
  {
   "cell_type": "code",
   "execution_count": 49,
   "metadata": {},
   "outputs": [
    {
     "name": "stderr",
     "output_type": "stream",
     "text": [
      "/Users/vora-family/Desktop/rl-talk-kdd/lib/python3.6/site-packages/ipykernel_launcher.py:15: UserWarning: Implicit dimension choice for softmax has been deprecated. Change the call to include dim=X as an argument.\n",
      "  from ipykernel import kernelapp as app\n",
      "/Users/vora-family/Desktop/rl-talk-kdd/lib/python3.6/site-packages/numpy/core/fromnumeric.py:2920: RuntimeWarning: Mean of empty slice.\n",
      "  out=out, **kwargs)\n",
      "/Users/vora-family/Desktop/rl-talk-kdd/lib/python3.6/site-packages/numpy/core/_methods.py:85: RuntimeWarning: invalid value encountered in double_scalars\n",
      "  ret = ret.dtype.type(ret / rcount)\n"
     ]
    },
    {
     "name": "stdout",
     "output_type": "stream",
     "text": [
      "Episode 10\tLast Reward: 13.00\tAverage Reward: 17.33\n",
      "Episode 20\tLast Reward: 17.00\tAverage Reward: 15.79\n",
      "Episode 30\tLast Reward: 32.00\tAverage Reward: 16.31\n",
      "Episode 40\tLast Reward: 27.00\tAverage Reward: 17.26\n",
      "Episode 50\tLast Reward: 13.00\tAverage Reward: 18.24\n",
      "Episode 60\tLast Reward: 32.00\tAverage Reward: 21.48\n",
      "Episode 70\tLast Reward: 63.00\tAverage Reward: 26.28\n",
      "Episode 80\tLast Reward: 28.00\tAverage Reward: 33.90\n",
      "Episode 90\tLast Reward: 58.00\tAverage Reward: 40.80\n",
      "Episode 100\tLast Reward: 71.00\tAverage Reward: 46.90\n",
      "Episode 110\tLast Reward: 131.00\tAverage Reward: 58.04\n",
      "Episode 120\tLast Reward: 76.00\tAverage Reward: 73.02\n",
      "Episode 130\tLast Reward: 46.00\tAverage Reward: 89.80\n",
      "Episode 140\tLast Reward: 83.00\tAverage Reward: 106.48\n",
      "Episode 150\tLast Reward: 185.00\tAverage Reward: 128.62\n",
      "Episode 160\tLast Reward: 200.00\tAverage Reward: 138.04\n",
      "Episode 170\tLast Reward: 200.00\tAverage Reward: 146.96\n",
      "Episode 180\tLast Reward: 200.00\tAverage Reward: 153.26\n",
      "Episode 190\tLast Reward: 200.00\tAverage Reward: 161.56\n",
      "Episode 200\tLast Reward: 60.00\tAverage Reward: 161.40\n",
      "Episode 210\tLast Reward: 200.00\tAverage Reward: 168.12\n",
      "Episode 220\tLast Reward: 200.00\tAverage Reward: 171.76\n",
      "Episode 230\tLast Reward: 200.00\tAverage Reward: 174.96\n",
      "Episode 240\tLast Reward: 200.00\tAverage Reward: 167.64\n",
      "Episode 250\tLast Reward: 200.00\tAverage Reward: 171.50\n",
      "Episode 260\tLast Reward: 200.00\tAverage Reward: 173.10\n",
      "Episode 270\tLast Reward: 166.00\tAverage Reward: 175.54\n",
      "Episode 280\tLast Reward: 174.00\tAverage Reward: 173.86\n",
      "Episode 290\tLast Reward: 200.00\tAverage Reward: 183.52\n",
      "Episode 300\tLast Reward: 200.00\tAverage Reward: 187.16\n",
      "Episode 310\tLast Reward: 200.00\tAverage Reward: 190.46\n",
      "Episode 320\tLast Reward: 200.00\tAverage Reward: 187.12\n",
      "Episode 330\tLast Reward: 200.00\tAverage Reward: 188.28\n",
      "Episode 340\tLast Reward: 200.00\tAverage Reward: 188.44\n",
      "Episode 350\tLast Reward: 127.00\tAverage Reward: 187.80\n",
      "Episode 360\tLast Reward: 200.00\tAverage Reward: 186.74\n",
      "Episode 370\tLast Reward: 200.00\tAverage Reward: 190.24\n",
      "Episode 380\tLast Reward: 200.00\tAverage Reward: 193.40\n",
      "Solved! Average reward is now 195.02 and the last episode runs to 200.0 time steps!\n"
     ]
    }
   ],
   "source": [
    "running_rewards = []\n",
    "last_number_of_episodes = 100\n",
    "\n",
    "for episode in count(1):\n",
    "\n",
    "    rollouts = [gather_data(old_model) for _ in range(4)]\n",
    "\n",
    "    for data in rollouts:\n",
    "        _ = train(model, old_model, data)\n",
    "\n",
    "    reward = sum(data.rewards)\n",
    "    average_reward = np.mean(running_rewards[-last_number_of_episodes:])\n",
    "    last_reward = running_rewards.append(reward)\n",
    "    \n",
    "    if episode % 10 == 0:\n",
    "        print('Episode {}\\tLast Reward: {:.2f}\\tAverage Reward: {:.2f}'.format(\n",
    "            episode, reward, average_reward))\n",
    "    \n",
    "    if average_reward > env.spec.reward_threshold:\n",
    "        print(\"Solved! Average reward is now {} and \"\n",
    "              \"the last episode runs to {} time steps!\".format(average_reward, reward))\n",
    "        break\n",
    "        \n",
    "    running_rewards.append(reward)\n",
    "    old_model = deepcopy(model)"
   ]
  },
  {
   "cell_type": "code",
   "execution_count": 50,
   "metadata": {},
   "outputs": [
    {
     "data": {
      "image/png": "[encoded data removed]",
      "text/plain": [
       "<Figure size 432x288 with 1 Axes>"
      ]
     },
     "metadata": {},
     "output_type": "display_data"
    }
   ],
   "source": [
    "rewards = np.array(running_rewards)\n",
    "rewards_mean = np.mean(rewards)\n",
    "rewards_std = np.std(rewards)\n",
    "\n",
    "\n",
    "plt.plot(running_rewards)\n",
    "plt.fill_between(\n",
    "    range(len(rewards)),\n",
    "    rewards-rewards_std, \n",
    "    rewards+rewards_std, \n",
    "    color='orange', \n",
    "    alpha=0.2\n",
    ")\n",
    "plt.title(\n",
    "    'Rewards Mean: {:.2f}, Standard Deviation: {:.2f}'.format(\n",
    "        np.mean(running_rewards),\n",
    "        np.std(running_rewards)\n",
    "    )\n",
    ")\n",
    "plt.show()"
   ]
  },
  {
   "cell_type": "markdown",
   "metadata": {},
   "source": [
    "**Much better!. What helped...:**\n",
    "\n",
    "1. PPO Loss Function\n",
    "2. Having a Critic \n",
    "3. Advantage Estimation "
   ]
  }
 ],
 "metadata": {
  "hide_input": false,
  "kernelspec": {
   "display_name": "Python 3",
   "language": "python",
   "name": "python3"
  },
  "language_info": {
   "codemirror_mode": {
    "name": "ipython",
    "version": 3
   },
   "file_extension": ".py",
   "mimetype": "text/x-python",
   "name": "python",
   "nbconvert_exporter": "python",
   "pygments_lexer": "ipython3",
   "version": "3.6.4"
  },
  "toc": {
   "nav_menu": {},
   "number_sections": true,
   "sideBar": true,
   "skip_h1_title": false,
   "title_cell": "Table of Contents",
   "title_sidebar": "Contents",
   "toc_cell": false,
   "toc_position": {},
   "toc_section_display": true,
   "toc_window_display": false
  },
  "varInspector": {
   "cols": {
    "lenName": 16,
    "lenType": 16,
    "lenVar": 40
   },
   "kernels_config": {
    "python": {
     "delete_cmd_postfix": "",
     "delete_cmd_prefix": "del ",
     "library": "var_list.py",
     "varRefreshCmd": "print(var_dic_list())"
    },
    "r": {
     "delete_cmd_postfix": ") ",
     "delete_cmd_prefix": "rm(",
     "library": "var_list.r",
     "varRefreshCmd": "cat(var_dic_list()) "
    }
   },
   "types_to_exclude": [
    "module",
    "function",
    "builtin_function_or_method",
    "instance",
    "_Feature"
   ],
   "window_display": false
  }
 },
 "nbformat": 4,
 "nbformat_minor": 2
}
